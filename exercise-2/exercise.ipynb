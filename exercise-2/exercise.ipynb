{
 "cells": [
  {
   "cell_type": "markdown",
   "metadata": {},
   "source": [
    "# Exercise-2\n",
    "Add the specified code for each code cell, running the cells _in order_.\n",
    "\n",
    "For these questions, look at the [API documentation](http://data.unhcr.org/wiki/index.php/API_Documentation.html) for the United Nations Refugee Agency (UNHCR) API to identify the appropriate endpoint and information. Then send a GET request (using `get()`) to fetch the resource, and use the `json()` method to extract the data. Access the resulting list or dictionary to answer the question."
   ]
  },
  {
   "cell_type": "markdown",
   "metadata": {},
   "source": [
    "Import the `requests` module for accessing web data."
   ]
  },
  {
   "cell_type": "code",
   "execution_count": null,
   "metadata": {
    "collapsed": false
   },
   "outputs": [],
   "source": []
  },
  {
   "cell_type": "markdown",
   "metadata": {},
   "source": [
    "For what years does the API have statistical data? Print out these years."
   ]
  },
  {
   "cell_type": "code",
   "execution_count": null,
   "metadata": {
    "collapsed": false
   },
   "outputs": [],
   "source": []
  },
  {
   "cell_type": "markdown",
   "metadata": {},
   "source": [
    "What is the **\"country code\"** for the \"Syrian Arab Republic\"? Print it out. _Hint_ you will need to \"search\" the returned list!"
   ]
  },
  {
   "cell_type": "code",
   "execution_count": null,
   "metadata": {
    "collapsed": false
   },
   "outputs": [],
   "source": []
  },
  {
   "cell_type": "markdown",
   "metadata": {},
   "source": [
    "How many **persons of concern** from Syria applied for residence in the USA in 2013?\n",
    "_Hint:_ you'll need to use a query parameter.\n",
    "- Use a for loop to print out each key-value pair **item** on a new line\n",
    "- See http://www.unhcr.org/en-us/who-we-help.html for details on the different terms used in the resource response"
   ]
  },
  {
   "cell_type": "code",
   "execution_count": null,
   "metadata": {
    "collapsed": false
   },
   "outputs": [],
   "source": []
  },
  {
   "cell_type": "markdown",
   "metadata": {},
   "source": [
    "_And this was only 2013..._"
   ]
  },
  {
   "cell_type": "markdown",
   "metadata": {},
   "source": [
    "How many **refugees** from Syria settled the USA in each year in the data set (2000 through 2013). Print each year and count on a separate line. Use a single request to fetch the information (it's more polite). _Hint_: check out the \"time series\" end points."
   ]
  },
  {
   "cell_type": "code",
   "execution_count": null,
   "metadata": {
    "collapsed": false
   },
   "outputs": [],
   "source": []
  },
  {
   "cell_type": "markdown",
   "metadata": {},
   "source": [
    "Pick one other country in the world (e.g., Turkey). How many **refugees** from Syria settled in that country in each of the years in the data set (2000 through 2013)?\n",
    "- Print a \"table\" comparing the numbers to those for the USA for each year. Note: some years may be missing data!"
   ]
  },
  {
   "cell_type": "code",
   "execution_count": null,
   "metadata": {
    "collapsed": false
   },
   "outputs": [],
   "source": []
  },
  {
   "cell_type": "markdown",
   "metadata": {},
   "source": [
    "\"Bonus\": How many of the refugees in 2013 were children (between 0 and 4 years old)?"
   ]
  },
  {
   "cell_type": "code",
   "execution_count": null,
   "metadata": {
    "collapsed": false
   },
   "outputs": [],
   "source": [
    "# not in solution yet :("
   ]
  },
  {
   "cell_type": "markdown",
   "metadata": {},
   "source": [
    "Extra practice (but less interesting results): How many total people applied for asylum in the USA in 2013?\n",
    "- Hint: use a `sum()` on a _mapped_ list of the counts (e.g., using a list comprehension). You'll need to exclude any values which are unavailable (`None`), and convert strings to ints.\n",
    "- Also note that asylum seekers are **not** refugees!"
   ]
  },
  {
   "cell_type": "code",
   "execution_count": null,
   "metadata": {
    "collapsed": false
   },
   "outputs": [],
   "source": []
  }
 ],
 "metadata": {
  "kernelspec": {
   "display_name": "Python 3",
   "language": "python",
   "name": "python3"
  },
  "language_info": {
   "codemirror_mode": {
    "name": "ipython",
    "version": 3
   },
   "file_extension": ".py",
   "mimetype": "text/x-python",
   "name": "python",
   "nbconvert_exporter": "python",
   "pygments_lexer": "ipython3",
   "version": "3.6.0"
  },
  "toc": {
   "colors": {
    "hover_highlight": "#DAA520",
    "running_highlight": "#FF0000",
    "selected_highlight": "#FFD700"
   },
   "moveMenuLeft": true,
   "nav_menu": {
    "height": "30px",
    "width": "252px"
   },
   "navigate_menu": true,
   "number_sections": true,
   "sideBar": true,
   "threshold": 4,
   "toc_cell": false,
   "toc_section_display": "block",
   "toc_window_display": false,
   "widenNotebook": false
  }
 },
 "nbformat": 4,
 "nbformat_minor": 2
}
