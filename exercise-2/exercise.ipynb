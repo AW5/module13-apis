{
 "cells": [
  {
   "cell_type": "markdown",
   "metadata": {},
   "source": [
    "# Exercise-2\n",
    "Add the specified code for each code cell, running the cells _in order_.\n",
    "\n",
    "For these questions, look at the [API documentation](http://data.unhcr.org/wiki/index.php/API_Documentation.html) for the United Nations Refugee Agency (UNHCR) API to identify the appropriate endpoint and information. Then send a GET request (using `get()`) to fetch the resource, and use the `json()` method to extract the data. Access the resulting list or dictionary to answer the question."
   ]
  },
  {
   "cell_type": "markdown",
   "metadata": {},
   "source": [
    "Import the `requests` module for accessing web data."
   ]
  },
  {
   "cell_type": "code",
   "execution_count": 1,
   "metadata": {
    "collapsed": false
   },
   "outputs": [],
   "source": [
    "import requests"
   ]
  },
  {
   "cell_type": "markdown",
   "metadata": {},
   "source": [
    "For what years does the API have statistical data? Print out these years."
   ]
  },
  {
   "cell_type": "code",
   "execution_count": 2,
   "metadata": {
    "collapsed": false
   },
   "outputs": [
    {
     "name": "stdout",
     "output_type": "stream",
     "text": [
      "[2000, 2001, 2002, 2003, 2004, 2005, 2006, 2007, 2008, 2009, 2010, 2011, 2012, 2013]\n"
     ]
    }
   ],
   "source": [
    "response = requests.get(\"http://data.unhcr.org/api/stats/time_series_years.json\")\n",
    "time_series_years = response.json()\n",
    "print(time_series_years)"
   ]
  },
  {
   "cell_type": "markdown",
   "metadata": {},
   "source": [
    "What is the **\"country code\"** for the \"Syrian Arab Republic\"? Print it out. _Hint_ you will need to \"search\" the returned list!"
   ]
  },
  {
   "cell_type": "code",
   "execution_count": 3,
   "metadata": {
    "collapsed": false
   },
   "outputs": [
    {
     "name": "stdout",
     "output_type": "stream",
     "text": [
      "SYR\n"
     ]
    }
   ],
   "source": [
    "response = requests.get(\"http://data.unhcr.org/api/countries/list.json\")\n",
    "countries = response.json()\n",
    "for country in countries:\n",
    "    if country['name_en'] == \"Syrian Arab Republic\":\n",
    "        print(country['country_code'])\n"
   ]
  },
  {
   "cell_type": "markdown",
   "metadata": {},
   "source": [
    "How many **persons of concern** from Syria applied for residence in the USA in 2013?\n",
    "_Hint:_ you'll need to use a query parameter.\n",
    "- Use a for loop to print out each key-value pair **item** on a new line\n",
    "- See http://www.unhcr.org/en-us/who-we-help.html for details on the different terms used in the resource response"
   ]
  },
  {
   "cell_type": "code",
   "execution_count": 4,
   "metadata": {
    "collapsed": false
   },
   "outputs": [
    {
     "name": "stdout",
     "output_type": "stream",
     "text": [
      "year : 2013\n",
      "country_of_residence : USA\n",
      "country_of_residence_en : United States\n",
      "country_of_origin : SYR\n",
      "country_of_origin_en : Syrian Arab Republic\n",
      "refugees : 3802\n",
      "asylum_seekers : 1378\n",
      "returned_refugees : None\n",
      "idps : None\n",
      "returned_idps : None\n",
      "stateless_persons : None\n",
      "others_of_concern : None\n",
      "total_population : 5180\n"
     ]
    }
   ],
   "source": [
    "params = {'country_of_residence':\"USA\", 'country_of_origin':\"SYR\", 'year':2013}\n",
    "response = requests.get(\"http://data.unhcr.org/api/stats/persons_of_concern.json\", params=params)\n",
    "usa_persons = response.json()\n",
    "for key, value in usa_persons[0].items():\n",
    "    print(key, ':', value)"
   ]
  },
  {
   "cell_type": "markdown",
   "metadata": {},
   "source": [
    "_And this was only 2013..._"
   ]
  },
  {
   "cell_type": "markdown",
   "metadata": {},
   "source": [
    "How many **refugees** from Syria settled the USA in each year in the data set (2000 through 2013). Print each year and count on a separate line. Use a single request to fetch the information (it's more polite). _Hint_: check out the \"time series\" end points."
   ]
  },
  {
   "cell_type": "code",
   "execution_count": 5,
   "metadata": {
    "collapsed": false
   },
   "outputs": [
    {
     "name": "stdout",
     "output_type": "stream",
     "text": [
      "2000 : 560\n",
      "2001 : 297\n",
      "2002 : 291\n",
      "2003 : 182\n",
      "2004 : 197\n",
      "2005 : 150\n",
      "2006 : 423\n",
      "2007 : 344\n",
      "2008 : 320\n",
      "2009 : 341\n",
      "2010 : 312\n",
      "2011 : 373\n",
      "2012 : 1425\n",
      "2013 : 3802\n"
     ]
    }
   ],
   "source": [
    "params = {'country_of_residence':\"USA\", 'country_of_origin':\"SYR\", 'population_type_code':\"RF\"}\n",
    "response = requests.get(\"http://data.unhcr.org/api/stats/time_series_all_years.json\", params=params)\n",
    "refugees_usa = response.json()\n",
    "for entry in refugees_usa:\n",
    "    print(entry['year'], \":\", entry['value'])"
   ]
  },
  {
   "cell_type": "markdown",
   "metadata": {},
   "source": [
    "Pick one other country in the world (e.g., Turkey). How many **refugees** from Syria settled in that country in each of the years in the data set (2000 through 2013)?\n",
    "- Print a \"table\" comparing the numbers to those for the USA for each year. Note: some years may be missing data!"
   ]
  },
  {
   "cell_type": "code",
   "execution_count": 6,
   "metadata": {
    "collapsed": false
   },
   "outputs": [
    {
     "name": "stdout",
     "output_type": "stream",
     "text": [
      "2000\tUSA: 560\tTurkey: 1\t\n",
      "2001\tUSA: 297\tTurkey: 6\t\n",
      "2002\tUSA: 291\tTurkey: 6\t\n",
      "2003\tUSA: 182\tTurkey: 3\t\n",
      "2004\tUSA: 197\t\n",
      "2005\tUSA: 150\tTurkey: 12\t\n",
      "2006\tUSA: 423\tTurkey: 2\t\n",
      "2007\tUSA: 344\tTurkey: 5\t\n",
      "2008\tUSA: 320\tTurkey: 12\t\n",
      "2009\tUSA: 341\tTurkey: 8\t\n",
      "2010\tUSA: 312\tTurkey: 9\t\n",
      "2011\tUSA: 373\tTurkey: 19\t\n",
      "2012\tUSA: 1425\tTurkey: 248466\t\n",
      "2013\tUSA: 3802\tTurkey: 585601\t\n"
     ]
    }
   ],
   "source": [
    "params = {'country_of_residence':\"TUR\", 'country_of_origin':\"SYR\", 'population_type_code':\"RF\"}\n",
    "response = requests.get(\"http://data.unhcr.org/api/stats/time_series_all_years.json\", params=params)\n",
    "refugees_other = response.json()\n",
    "\n",
    "for year in time_series_years:\n",
    "    print(year, end=\"\\t\")\n",
    "    # find entry in USA\n",
    "    for entry in refugees_usa:\n",
    "        if entry['year'] == year:\n",
    "            print('USA:', entry['value'], end=\"\\t\")\n",
    "    # find entry in Other\n",
    "    for entry in refugees_other:\n",
    "        if entry['year'] == year:\n",
    "            print('Turkey:', entry['value'], end='\\t')\n",
    "    print('')  # blank line"
   ]
  },
  {
   "cell_type": "markdown",
   "metadata": {},
   "source": [
    "\"Bonus\": How many of the refugees in 2013 were children (between 0 and 4 years old)?"
   ]
  },
  {
   "cell_type": "code",
   "execution_count": 7,
   "metadata": {
    "collapsed": false
   },
   "outputs": [],
   "source": [
    "# not in solution yet :("
   ]
  },
  {
   "cell_type": "markdown",
   "metadata": {},
   "source": [
    "Extra practice (but less interesting results): How many total people applied for asylum in the USA in 2013?\n",
    "- Hint: use a `sum()` on a _mapped_ list of the counts (e.g., using a list comprehension). You'll need to exclude any values which are unavailable (`None`), and convert strings to ints.\n",
    "- Also note that asylum seekers are **not** refugees!"
   ]
  },
  {
   "cell_type": "code",
   "execution_count": 8,
   "metadata": {
    "collapsed": false
   },
   "outputs": [
    {
     "data": {
      "text/plain": [
       "68135"
      ]
     },
     "execution_count": 8,
     "metadata": {},
     "output_type": "execute_result"
    }
   ],
   "source": [
    "params = {'country_of_asylum':\"USA\",'year':2013}\n",
    "response = requests.get(\"http://data.unhcr.org/api/stats/asylum_seekers.json\", params=params)\n",
    "usa_seekers = response.json()\n",
    "counts = [int(item['applied_during_year']) for item in usa_seekers if item['applied_during_year'] != None]\n",
    "sum(counts)"
   ]
  }
 ],
 "metadata": {
  "kernelspec": {
   "display_name": "Python 3",
   "language": "python",
   "name": "python3"
  },
  "language_info": {
   "codemirror_mode": {
    "name": "ipython",
    "version": 3
   },
   "file_extension": ".py",
   "mimetype": "text/x-python",
   "name": "python",
   "nbconvert_exporter": "python",
   "pygments_lexer": "ipython3",
   "version": "3.6.0"
  },
  "toc": {
   "colors": {
    "hover_highlight": "#DAA520",
    "running_highlight": "#FF0000",
    "selected_highlight": "#FFD700"
   },
   "moveMenuLeft": true,
   "nav_menu": {
    "height": "30px",
    "width": "252px"
   },
   "navigate_menu": true,
   "number_sections": true,
   "sideBar": true,
   "threshold": 4,
   "toc_cell": false,
   "toc_section_display": "block",
   "toc_window_display": false,
   "widenNotebook": false
  }
 },
 "nbformat": 4,
 "nbformat_minor": 2
}
