{
 "cells": [
  {
   "cell_type": "markdown",
   "metadata": {},
   "source": [
    "# Exercise-1\n",
    "Add the specified code for each code cell, running the cells _in order_."
   ]
  },
  {
   "cell_type": "markdown",
   "metadata": {},
   "source": [
    "First, import the `requests` module for accessing web data."
   ]
  },
  {
   "cell_type": "code",
   "execution_count": null,
   "metadata": {
    "collapsed": true
   },
   "outputs": [],
   "source": []
  },
  {
   "cell_type": "markdown",
   "metadata": {},
   "source": [
    "Create a variable **`base_uri`** that stores the _base uri_ (as a string) for the Spotify API (see [here](https://developer.spotify.com/web-api/endpoint-reference/) at the top of the page). You can then concatenate different _endpoints_ with this base to get the resource URL."
   ]
  },
  {
   "cell_type": "code",
   "execution_count": null,
   "metadata": {
    "collapsed": true
   },
   "outputs": [],
   "source": []
  },
  {
   "cell_type": "markdown",
   "metadata": {},
   "source": [
    "Create a variable **`endpoint`** that stores the endpoint for the [search](https://developer.spotify.com/web-api/search-item/) resource. (Note: Breaking up resources into two pieces isn't strictly necessary, but it can be useful for more complex programs)."
   ]
  },
  {
   "cell_type": "code",
   "execution_count": null,
   "metadata": {
    "collapsed": true
   },
   "outputs": [],
   "source": []
  },
  {
   "cell_type": "markdown",
   "metadata": {},
   "source": [
    "Send a `get()` request to the seach endpoint for your favorite _`artist`_ (you can default to Beyonce). Use the named `params` argument to specify a dictionary of parameters. Print the response's `status_code` and `url` to show that your request worked worked. (This will also allow you to inspect the JSON in the browser easily)"
   ]
  },
  {
   "cell_type": "code",
   "execution_count": null,
   "metadata": {
    "collapsed": false
   },
   "outputs": [],
   "source": []
  },
  {
   "cell_type": "markdown",
   "metadata": {},
   "source": [
    "Access the response's JSON content as a Python dictionary. Create a variable **`artist_id`** that contains the `id` of the _first_ item in the returned results. _HINT:_ Look at the structure of the returned JSON object!  "
   ]
  },
  {
   "cell_type": "code",
   "execution_count": null,
   "metadata": {
    "collapsed": false
   },
   "outputs": [],
   "source": []
  },
  {
   "cell_type": "markdown",
   "metadata": {},
   "source": [
    "Send a `get()` request for the [top tracks](https://developer.spotify.com/web-api/get-artists-top-tracks/) by that artist. You will need to use the `artist_id` to construct (concatenate) the resource endpoint to query. **Note** you will need to include a `country` request parameter (e.g., `US`)! Store the resulting data in a variable `top_tracks`"
   ]
  },
  {
   "cell_type": "code",
   "execution_count": null,
   "metadata": {
    "collapsed": true
   },
   "outputs": [],
   "source": []
  },
  {
   "cell_type": "markdown",
   "metadata": {},
   "source": [
    "Use a _list comprehension_ (or the `map()` function) to produce a list of the `preview_url` values for each `track` in the top tracks. Store this as a variable **`top_track_previews`**. This is an example of \"flattening\" some results. "
   ]
  },
  {
   "cell_type": "code",
   "execution_count": null,
   "metadata": {
    "collapsed": false
   },
   "outputs": [],
   "source": []
  },
  {
   "cell_type": "markdown",
   "metadata": {},
   "source": [
    "Send a `get()` request for the first song's preview. Save the resulting response's binary **`.content`** (which is not JSON!) as a variable `top_song`."
   ]
  },
  {
   "cell_type": "code",
   "execution_count": null,
   "metadata": {
    "collapsed": false
   },
   "outputs": [],
   "source": []
  },
  {
   "cell_type": "markdown",
   "metadata": {},
   "source": [
    "Import the `IPython.display` module (for displaying media content in Jupyter) and use the [`IPython.display.Audio()`](http://ipython.org/ipython-doc/stable/api/generated/IPython.display.html#IPython.display.Audio) function to \"display\" the top song. This will enable you to play it in the notebook! (You can use the `autoplay` keyword argument to start the preview automatically)."
   ]
  },
  {
   "cell_type": "code",
   "execution_count": null,
   "metadata": {
    "collapsed": false
   },
   "outputs": [],
   "source": []
  }
 ],
 "metadata": {
  "kernelspec": {
   "display_name": "Python 3",
   "language": "python",
   "name": "python3"
  },
  "language_info": {
   "codemirror_mode": {
    "name": "ipython",
    "version": 3
   },
   "file_extension": ".py",
   "mimetype": "text/x-python",
   "name": "python",
   "nbconvert_exporter": "python",
   "pygments_lexer": "ipython3",
   "version": "3.6.0"
  },
  "toc": {
   "colors": {
    "hover_highlight": "#DAA520",
    "running_highlight": "#FF0000",
    "selected_highlight": "#FFD700"
   },
   "moveMenuLeft": true,
   "nav_menu": {
    "height": "30px",
    "width": "252px"
   },
   "navigate_menu": true,
   "number_sections": true,
   "sideBar": true,
   "threshold": 4,
   "toc_cell": false,
   "toc_section_display": "block",
   "toc_window_display": false,
   "widenNotebook": false
  }
 },
 "nbformat": 4,
 "nbformat_minor": 2
}
